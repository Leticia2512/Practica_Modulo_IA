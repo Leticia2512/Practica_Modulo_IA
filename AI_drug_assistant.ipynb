{
 "cells": [
  {
   "cell_type": "markdown",
   "id": "ffcab9e6",
   "metadata": {},
   "source": [
    "# Proyecto IA - Asistente Inteligente para la Consulta y Resumen de Fichas Técnicas de Medicamentos\n",
    "\n",
    "Módulo Inteligencia Artificial - Bootcamp BD15 - *KeepCoding*\n",
    "\n",
    "---\n",
    "\n",
    "El objetivo de este proyecto es aplicar técnicas de procesamiento de lenguaje natural (NLP) y modelos de lenguaje (LLMs) para extraer, analizar y resumir información médica real contenida en fichas técnicas de medicamentos.\n",
    "\n",
    "Como fuente de datos se han utilizado fichas técnicas oficiales en formato PDF, convertidas posteriormente a archivos .txt, descargadas manualmente desde el sitio web de la Agencia Española de Medicamentos y Productos Sanitarios (AEMPS).\n",
    "\n",
    "A lo largo de esta práctica, se han aplicado técnicas como la división del texto en fragmentos (*chunking*), la generación de representaciones vectoriales mediante `OpenAIEmbeddings`, y la construcción de un índice semántico con FAISS para facilitar búsquedas contextuales.\n",
    "\n",
    "Los pasos clave realizados han sido:\n",
    "\n",
    "- Conversión de las fichas técnicas en texto plano.\n",
    "- Extracción de las secciones más relevantes (como indicaciones, posología o efectos adversos).\n",
    "- División de los textos en fragmentos y generación de **embeddings**.\n",
    "- Construcción de un índice semántico con **FAISS** para realizar búsquedas por similitud.\n",
    "- Uso de **prompts personalizados** y un modelo LLM (`ChatOpenAI`) para generar respuestas automáticas.\n"
   ]
  },
  {
   "cell_type": "code",
   "execution_count": 1,
   "id": "fc7a3d38",
   "metadata": {},
   "outputs": [
    {
     "name": "stdout",
     "output_type": "stream",
     "text": [
      "Requirement already satisfied: openai in ./venv/lib/python3.10/site-packages (1.95.1)\n",
      "Requirement already satisfied: langchain in ./venv/lib/python3.10/site-packages (0.3.26)\n",
      "Requirement already satisfied: langchain-community in ./venv/lib/python3.10/site-packages (0.3.27)\n",
      "Requirement already satisfied: langchain-openai in ./venv/lib/python3.10/site-packages (0.3.27)\n",
      "Requirement already satisfied: faiss-cpu in ./venv/lib/python3.10/site-packages (1.11.0)\n",
      "Requirement already satisfied: PyMuPDF in ./venv/lib/python3.10/site-packages (1.26.3)\n",
      "Requirement already satisfied: tiktoken in ./venv/lib/python3.10/site-packages (0.9.0)\n",
      "Requirement already satisfied: pypdf in ./venv/lib/python3.10/site-packages (5.7.0)\n",
      "Requirement already satisfied: pydantic<3,>=1.9.0 in ./venv/lib/python3.10/site-packages (from openai) (2.11.7)\n",
      "Requirement already satisfied: httpx<1,>=0.23.0 in ./venv/lib/python3.10/site-packages (from openai) (0.28.1)\n",
      "Requirement already satisfied: anyio<5,>=3.5.0 in ./venv/lib/python3.10/site-packages (from openai) (4.9.0)\n",
      "Requirement already satisfied: tqdm>4 in ./venv/lib/python3.10/site-packages (from openai) (4.67.1)\n",
      "Requirement already satisfied: distro<2,>=1.7.0 in ./venv/lib/python3.10/site-packages (from openai) (1.9.0)\n",
      "Requirement already satisfied: jiter<1,>=0.4.0 in ./venv/lib/python3.10/site-packages (from openai) (0.10.0)\n",
      "Requirement already satisfied: typing-extensions<5,>=4.11 in ./venv/lib/python3.10/site-packages (from openai) (4.14.1)\n",
      "Requirement already satisfied: sniffio in ./venv/lib/python3.10/site-packages (from openai) (1.3.1)\n",
      "Requirement already satisfied: async-timeout<5.0.0,>=4.0.0 in ./venv/lib/python3.10/site-packages (from langchain) (4.0.3)\n",
      "Requirement already satisfied: langchain-core<1.0.0,>=0.3.66 in ./venv/lib/python3.10/site-packages (from langchain) (0.3.68)\n",
      "Requirement already satisfied: langchain-text-splitters<1.0.0,>=0.3.8 in ./venv/lib/python3.10/site-packages (from langchain) (0.3.8)\n",
      "Requirement already satisfied: PyYAML>=5.3 in ./venv/lib/python3.10/site-packages (from langchain) (6.0.2)\n",
      "Requirement already satisfied: requests<3,>=2 in ./venv/lib/python3.10/site-packages (from langchain) (2.32.4)\n",
      "Requirement already satisfied: langsmith>=0.1.17 in ./venv/lib/python3.10/site-packages (from langchain) (0.4.5)\n",
      "Requirement already satisfied: SQLAlchemy<3,>=1.4 in ./venv/lib/python3.10/site-packages (from langchain) (2.0.41)\n",
      "Requirement already satisfied: numpy>=1.26.2 in ./venv/lib/python3.10/site-packages (from langchain-community) (2.2.6)\n",
      "Requirement already satisfied: aiohttp<4.0.0,>=3.8.3 in ./venv/lib/python3.10/site-packages (from langchain-community) (3.12.14)\n",
      "Requirement already satisfied: httpx-sse<1.0.0,>=0.4.0 in ./venv/lib/python3.10/site-packages (from langchain-community) (0.4.1)\n",
      "Requirement already satisfied: pydantic-settings<3.0.0,>=2.4.0 in ./venv/lib/python3.10/site-packages (from langchain-community) (2.10.1)\n",
      "Requirement already satisfied: tenacity!=8.4.0,<10,>=8.1.0 in ./venv/lib/python3.10/site-packages (from langchain-community) (9.1.2)\n",
      "Requirement already satisfied: dataclasses-json<0.7,>=0.5.7 in ./venv/lib/python3.10/site-packages (from langchain-community) (0.6.7)\n",
      "Requirement already satisfied: packaging in ./venv/lib/python3.10/site-packages (from faiss-cpu) (24.2)\n",
      "Requirement already satisfied: regex>=2022.1.18 in ./venv/lib/python3.10/site-packages (from tiktoken) (2024.11.6)\n",
      "Requirement already satisfied: yarl<2.0,>=1.17.0 in ./venv/lib/python3.10/site-packages (from aiohttp<4.0.0,>=3.8.3->langchain-community) (1.20.1)\n",
      "Requirement already satisfied: aiosignal>=1.4.0 in ./venv/lib/python3.10/site-packages (from aiohttp<4.0.0,>=3.8.3->langchain-community) (1.4.0)\n",
      "Requirement already satisfied: propcache>=0.2.0 in ./venv/lib/python3.10/site-packages (from aiohttp<4.0.0,>=3.8.3->langchain-community) (0.3.2)\n",
      "Requirement already satisfied: multidict<7.0,>=4.5 in ./venv/lib/python3.10/site-packages (from aiohttp<4.0.0,>=3.8.3->langchain-community) (6.6.3)\n",
      "Requirement already satisfied: frozenlist>=1.1.1 in ./venv/lib/python3.10/site-packages (from aiohttp<4.0.0,>=3.8.3->langchain-community) (1.7.0)\n",
      "Requirement already satisfied: aiohappyeyeballs>=2.5.0 in ./venv/lib/python3.10/site-packages (from aiohttp<4.0.0,>=3.8.3->langchain-community) (2.6.1)\n",
      "Requirement already satisfied: attrs>=17.3.0 in ./venv/lib/python3.10/site-packages (from aiohttp<4.0.0,>=3.8.3->langchain-community) (25.3.0)\n",
      "Requirement already satisfied: exceptiongroup>=1.0.2 in ./venv/lib/python3.10/site-packages (from anyio<5,>=3.5.0->openai) (1.3.0)\n",
      "Requirement already satisfied: idna>=2.8 in ./venv/lib/python3.10/site-packages (from anyio<5,>=3.5.0->openai) (3.10)\n",
      "Requirement already satisfied: marshmallow<4.0.0,>=3.18.0 in ./venv/lib/python3.10/site-packages (from dataclasses-json<0.7,>=0.5.7->langchain-community) (3.26.1)\n",
      "Requirement already satisfied: typing-inspect<1,>=0.4.0 in ./venv/lib/python3.10/site-packages (from dataclasses-json<0.7,>=0.5.7->langchain-community) (0.9.0)\n",
      "Requirement already satisfied: httpcore==1.* in ./venv/lib/python3.10/site-packages (from httpx<1,>=0.23.0->openai) (1.0.9)\n",
      "Requirement already satisfied: certifi in ./venv/lib/python3.10/site-packages (from httpx<1,>=0.23.0->openai) (2025.7.9)\n",
      "Requirement already satisfied: h11>=0.16 in ./venv/lib/python3.10/site-packages (from httpcore==1.*->httpx<1,>=0.23.0->openai) (0.16.0)\n",
      "Requirement already satisfied: jsonpatch<2.0,>=1.33 in ./venv/lib/python3.10/site-packages (from langchain-core<1.0.0,>=0.3.66->langchain) (1.33)\n",
      "Requirement already satisfied: requests-toolbelt<2.0.0,>=1.0.0 in ./venv/lib/python3.10/site-packages (from langsmith>=0.1.17->langchain) (1.0.0)\n",
      "Requirement already satisfied: zstandard<0.24.0,>=0.23.0 in ./venv/lib/python3.10/site-packages (from langsmith>=0.1.17->langchain) (0.23.0)\n",
      "Requirement already satisfied: orjson<4.0.0,>=3.9.14 in ./venv/lib/python3.10/site-packages (from langsmith>=0.1.17->langchain) (3.10.18)\n",
      "Requirement already satisfied: typing-inspection>=0.4.0 in ./venv/lib/python3.10/site-packages (from pydantic<3,>=1.9.0->openai) (0.4.1)\n",
      "Requirement already satisfied: pydantic-core==2.33.2 in ./venv/lib/python3.10/site-packages (from pydantic<3,>=1.9.0->openai) (2.33.2)\n",
      "Requirement already satisfied: annotated-types>=0.6.0 in ./venv/lib/python3.10/site-packages (from pydantic<3,>=1.9.0->openai) (0.7.0)\n",
      "Requirement already satisfied: python-dotenv>=0.21.0 in ./venv/lib/python3.10/site-packages (from pydantic-settings<3.0.0,>=2.4.0->langchain-community) (1.1.1)\n",
      "Requirement already satisfied: charset_normalizer<4,>=2 in ./venv/lib/python3.10/site-packages (from requests<3,>=2->langchain) (3.4.2)\n",
      "Requirement already satisfied: urllib3<3,>=1.21.1 in ./venv/lib/python3.10/site-packages (from requests<3,>=2->langchain) (2.5.0)\n",
      "Requirement already satisfied: greenlet>=1 in ./venv/lib/python3.10/site-packages (from SQLAlchemy<3,>=1.4->langchain) (3.2.3)\n",
      "Requirement already satisfied: jsonpointer>=1.9 in ./venv/lib/python3.10/site-packages (from jsonpatch<2.0,>=1.33->langchain-core<1.0.0,>=0.3.66->langchain) (3.0.0)\n",
      "Requirement already satisfied: mypy-extensions>=0.3.0 in ./venv/lib/python3.10/site-packages (from typing-inspect<1,>=0.4.0->dataclasses-json<0.7,>=0.5.7->langchain-community) (1.1.0)\n",
      "\n",
      "\u001b[1m[\u001b[0m\u001b[34;49mnotice\u001b[0m\u001b[1;39;49m]\u001b[0m\u001b[39;49m A new release of pip is available: \u001b[0m\u001b[31;49m23.0.1\u001b[0m\u001b[39;49m -> \u001b[0m\u001b[32;49m25.1.1\u001b[0m\n",
      "\u001b[1m[\u001b[0m\u001b[34;49mnotice\u001b[0m\u001b[1;39;49m]\u001b[0m\u001b[39;49m To update, run: \u001b[0m\u001b[32;49mpip install --upgrade pip\u001b[0m\n"
     ]
    }
   ],
   "source": [
    "!pip install openai langchain langchain-community langchain-openai faiss-cpu PyMuPDF tiktoken pypdf"
   ]
  },
  {
   "cell_type": "code",
   "execution_count": 2,
   "id": "fc399912",
   "metadata": {},
   "outputs": [],
   "source": [
    "# Importación de librerías\n",
    "# Librerías estándar\n",
    "import os\n",
    "import getpass\n",
    "import tiktoken\n",
    "\n",
    "# Lectura de PDFs\n",
    "import fitz \n",
    "\n",
    "# Librerías LangChain y OpenAI\n",
    "from langchain_community.document_loaders import TextLoader\n",
    "from langchain_text_splitters import CharacterTextSplitter\n",
    "from langchain_community.vectorstores import FAISS\n",
    "from langchain_openai import OpenAIEmbeddings, ChatOpenAI\n",
    "from langchain.schema import HumanMessage\n",
    "from langchain_core.prompts import PromptTemplate\n",
    "\n",
    "# Visualización\n",
    "from IPython.display import Markdown\n",
    "\n",
    "# Funciones personalizadas\n",
    "from utils import convert_pdfs_a_txt"
   ]
  },
  {
   "cell_type": "code",
   "execution_count": 3,
   "id": "13d4a6f6",
   "metadata": {},
   "outputs": [],
   "source": [
    "api_key = getpass.getpass(\"Introduce tu clave de OpenAI:\")\n",
    "os.environ[\"OPENAI_API_KEY\"] = api_key"
   ]
  },
  {
   "cell_type": "markdown",
   "id": "228ab209",
   "metadata": {},
   "source": [
    "### 1. Preparación del corpus a partir de fichas técnicas de medicamentos\n",
    "\n",
    "En esta primera fase del proyecto, se parte de un conjunto de fichas técnicas reales de medicamentos, descargadas manualmente desde el portal oficial de la Agencia Española de Medicamentos y Productos Sanitarios (AEMPS - CIMA).\n",
    "\n",
    "Estos documentos se encontraban originalmente en formato PDF, y son convertidos a archivos `.txt` mediante la función `convert_pdfs_a_txt()`.\n",
    "\n",
    "Se han seleccionado medicamentos de uso común, y sus fichas técnicas contienen secciones clínicas clave como:\n",
    "\n",
    "- Indicaciones terapéuticas  \n",
    "- Posología y forma de administración  \n",
    "- Reacciones adversas  \n",
    "- Interacciones medicamentosas  \n",
    "- Contraindicaciones y advertencias  \n",
    "\n",
    "Cada archivo `.txt` representa el contenido completo de una ficha técnica y se encuentra almacenado en la carpeta `./data`."
   ]
  },
  {
   "cell_type": "code",
   "execution_count": 7,
   "id": "f7c697bf",
   "metadata": {},
   "outputs": [
    {
     "name": "stdout",
     "output_type": "stream",
     "text": [
      "Convertido: Ibuprofeno.pdf → Ibuprofeno.txt\n",
      "Convertido: Metformina.pdf → Metformina.txt\n",
      "Convertido: Lorazepam.pdf → Lorazepam.txt\n",
      "Convertido: Omeprazol.pdf → Omeprazol.txt\n"
     ]
    }
   ],
   "source": [
    "# Convertimos los archivos PDFs a .txt \n",
    "convert_pdfs_a_txt(\"data\")\n"
   ]
  },
  {
   "cell_type": "markdown",
   "id": "18c701ce",
   "metadata": {},
   "source": [
    "Cargamos todas las fichas técnicas en formato .txt desde la carpeta `data/` y las convertimos en objetos de tipo Document de LangChain, listos para ser procesados."
   ]
  },
  {
   "cell_type": "code",
   "execution_count": 8,
   "id": "2b9e2a75",
   "metadata": {},
   "outputs": [
    {
     "name": "stdout",
     "output_type": "stream",
     "text": [
      "Se cargaron 4 fragmentos desde 4 archivos.\n"
     ]
    }
   ],
   "source": [
    "# Cargar todos los .txt desde la carpeta 'data'\n",
    "carpeta_data = \"data\"\n",
    "archivos_txt = [os.path.join(carpeta_data, f) for f in os.listdir(carpeta_data) if f.endswith(\".txt\")]\n",
    "\n",
    "documentos = []\n",
    "for archivo in archivos_txt:\n",
    "    loader = TextLoader(archivo, encoding=\"utf-8\")\n",
    "    docs = loader.load()\n",
    "    \n",
    "    for doc in docs:\n",
    "        doc.metadata[\"fuente\"] = os.path.basename(archivo)\n",
    "        documentos.append(doc)\n",
    "\n",
    "print(f\"Se cargaron {len(documentos)} fragmentos desde {len(archivos_txt)} archivos.\")"
   ]
  },
  {
   "cell_type": "markdown",
   "id": "f965a379",
   "metadata": {},
   "source": [
    "## 2. Procesamiento de fichas técnicas y creación de un índice semántico con FAISS\n",
    "\n",
    "Una vez cargadas las fichas técnicas en formato texto, se procede a su preprocesamiento y vectorización con el objetivo de transformarlas en representaciones numéricas (embeddings) que capturen el significado semántico de su contenido.\n",
    "\n",
    "Este paso es muy importante para que las consultas médicas puedan generar respuestas específicas de manera contextualizada.\n",
    "\n",
    "Los pasos realizados en esta sección son:\n",
    "\n",
    "1. Segmentación del contenido completo de cada ficha técnica en fragmentos más pequeños (*chunking*).\n",
    "\n",
    "2. Conversión de cada fragmento en un vector numérico mediante el modelo `text-embedding-ada-002` de OpenAI, a través del componente `OpenAIEmbeddings` de LangChain.\n",
    "\n",
    "3. Construcción de un índice vectorial utilizando **FAISS**, una herramienta que permite realizar búsquedas semánticas eficientes sobre grandes volúmenes de texto.\n",
    "\n",
    "Este índice semántico será la base para realizar las futuras consultas, generar resúmenes automáticos u obtener respuestas específicas sobre los medicamentos.\n",
    "\n"
   ]
  },
  {
   "cell_type": "code",
   "execution_count": 9,
   "id": "f9f527c9",
   "metadata": {},
   "outputs": [
    {
     "name": "stdout",
     "output_type": "stream",
     "text": [
      "Se han generado 278 fragmentos de texto.\n"
     ]
    }
   ],
   "source": [
    "# Dividir los documentos en fragmentos más pequeños\n",
    "splitter = CharacterTextSplitter(separator=\"\\n\", chunk_size=600, chunk_overlap=100)\n",
    "chunks = splitter.split_documents(documentos)\n",
    "print(f\"Se han generado {len(chunks)} fragmentos de texto.\")"
   ]
  },
  {
   "cell_type": "code",
   "execution_count": 10,
   "id": "cdd84f67",
   "metadata": {},
   "outputs": [
    {
     "name": "stdout",
     "output_type": "stream",
     "text": [
      "1 de 20 \n",
      "FICHA TÉCNICA \n",
      "1. NOMBRE DEL MEDICAMENTO  \n",
      "Lorazepam Normogen 2 mg comprimidos EFG \n",
      "2. COMPOSICIÓN CUALITATIVA Y CUANTITATIVA  \n",
      "Cada comprimido contiene 2 mg de lorazepam \n",
      "Excipiente(s) con efecto conocido \n",
      "Cada comprimido contiene 55,6  mg de lactosa. \n",
      "Para consultar la lista completa de excipientes, ver sección 6.1.  \n",
      "3. FORMA FARMACÉUTICA  \n",
      "Comprimidos. \n",
      "Comprimidos de color amarillo, redondos, biconvexos, serigrafiados con “LZ” en una cara y \n",
      "ranurados en la otra, con un diámetro de\n"
     ]
    }
   ],
   "source": [
    "# Ejemplo de visualización de un fragmento\n",
    "print(chunks[0].page_content[:500])"
   ]
  },
  {
   "cell_type": "code",
   "execution_count": 12,
   "id": "53eb529a",
   "metadata": {},
   "outputs": [],
   "source": [
    "\n",
    "# Crear embeddings para cada fragmento\n",
    "embeddings = OpenAIEmbeddings(model=\"text-embedding-ada-002\")\n",
    "\n",
    "# Construcción del índice\n",
    "vectorstore = FAISS.from_documents(chunks, embeddings)\n",
    "\n",
    "# Guardar el índice en local\n",
    "vectorstore.save_local(\"faiss_index\")"
   ]
  },
  {
   "cell_type": "markdown",
   "id": "9b62a723",
   "metadata": {},
   "source": [
    "## 3. Consulta y generación de respuestas con un modelo LLM (RAG)\n",
    "\n",
    "En esta parte de la práctica se lleva a cabo una consulta sobre las fichas técnicas utilizando el índice semántico previamente creado y un modelo de lenguaje (LLM) para generar una respuesta clara y contextualizada.  \n",
    "\n",
    "Para ello, se ha utilizado la técnica conocida como **Retrieval-Augmented Generation (RAG)**.\n",
    "\n",
    "Los pasos realizados han sido los siguientes:\n",
    "\n",
    "1. **Planteamiento de la pregunta:** se redacta una consulta médica relacionada con un medicamento.\n",
    "\n",
    "2. **Búsqueda semántica con FAISS:** se recuperan los fragmentos de texto más relevantes en función del significado de la pregunta.\n",
    "\n",
    "3. **Filtrado por medicamento:** solo se conservan los fragmentos que pertenecen al archivo del medicamento consultado.\n",
    "\n",
    "4. **Construcción del prompt:** se combinan los fragmentos encontrados y la pregunta en un formato estructurado que pueda entender el modelo.\n",
    "\n",
    "5. **Generación de la respuesta:** el modelo `ChatOpenAI` responde basándose únicamente en la información contextual proporcionada, reduciendo así el riesgo de errores o alucinaciones.\n",
    "\n",
    "Este proceso simula cómo funcionaría un asistente inteligente capaz de buscar en documentos técnicos y ofrecer respuestas precisas a consultas médicas concretas."
   ]
  },
  {
   "cell_type": "code",
   "execution_count": 14,
   "id": "69001cd6",
   "metadata": {},
   "outputs": [
    {
     "name": "stdout",
     "output_type": "stream",
     "text": [
      "Fragmento 1 (fuente: Omeprazol.txt):\n",
      "Durante el tratamiento con omeprazol no se ha observado taquifilaxia.  \n",
      " \n",
      "Efecto sobre H. pylori  \n",
      "H. pylori está asociado a las úlceras pépticas, incluyendo la úlcera duodenal y gástrica. H. pylori es un \n",
      "factor importante para el desarrollo de gastritis. H. pylori junto con la acidez gástrica son los factores \n",
      "principales para el desarrollo de úlceras pépticas. H. pylori es un importante factor en el desarrollo de \n",
      "gastritis atrófica, que se asocia a un aumento del riesgo de padecer carcinoma  ...\n",
      "---\n",
      "\n",
      "Fragmento 2 (fuente: Omeprazol.txt):\n",
      "Omeprazol es un inhibidor del CYP2C19. Al iniciar o finalizar el tratamiento con omeprazol, debe \n",
      "considerarse el potencial de interacciones con medicamentos metabolizados a través del CYP2C19. Se ha \n",
      "observado una interacción entre clopidogrel y omeprazol (ver sección 4.5). La relevancia clínica de esta \n",
      "interacción no está clara. Como precaución, debería desaconsejarse el uso concomitante de omeprazol y \n",
      "clopidogrel. \n",
      " \n",
      "Hipomagnesemia \n",
      "Se ha notificado hipomagnesemia severa en pacientes tratad ...\n",
      "---\n",
      "\n",
      "Fragmento 3 (fuente: Omeprazol.txt):\n",
      "Malestar general, edema periférico  \n",
      "Raras  \n",
      "Aumento de la sudoración  \n",
      " \n",
      "Población pediátrica \n",
      "Se ha evaluado la seguridad del omeprazol en un total de 310 niños de edades comprendidas entre 0 y 16 \n",
      "años con enfermedades relacionadas con la acidez. Existen datos limitados sobre la seguridad a largo plazo \n",
      "procedentes de 46 niños que recibieron tratamiento de mantenimiento con omeprazol durante un estudio \n",
      "clínico para esofagitis erosiva severa durante un periodo de hasta 749 días. El perfil de  ...\n",
      "---\n",
      "\n",
      "Fragmento 4 (fuente: Omeprazol.txt):\n",
      "más de 1.000 mujeres expuestas) no muestran reacciones adversas del omeprazol sobre el embarazo ni la \n",
      "salud del feto o del recién nacido. Se puede utilizar omeprazol durante el embarazo. \n",
      "Lactancia  \n",
      "El omeprazol se excreta en la leche materna, pero no es probable que afecte al niño cuando se utilizan dosis \n",
      "terapéuticas. \n",
      "Fertilidad  \n",
      "Los estudios de animales con la mezcla racémica de omeprazol, administrada por vía oral, no muestran \n",
      "efectos con respecto a la fertilidad. \n",
      "4.7. Efectos sobre l ...\n",
      "---\n",
      "\n",
      "Fragmento 5 (fuente: Omeprazol.txt):\n",
      "Como consecuencia de la reducción de la secreción ácida y de la acidez intragástrica, el omeprazol \n",
      "reduce/normaliza, de forma dosis-dependiente, la exposición ácida del esófago en pacientes con \n",
      "enfermedad por reflujo gastroesofágico. La inhibición de la secreción ácida está relacionada con el valor \n",
      "del área bajo la curva (AUC) concentración plasmática-tiempo de omeprazol, pero no con la concentración \n",
      "plasmática real a un tiempo dado.  \n",
      " \n",
      "Durante el tratamiento con omeprazol no se ha observad ...\n",
      "---\n",
      "\n",
      "Fragmento 6 (fuente: Omeprazol.txt):\n",
      "5.3. Datos preclínicos sobre seguridad  \n",
      "En estudios realizados en ratas tratadas con omeprazol a lo largo de su ciclo de vida se ha observado \n",
      "hiperplasia y carcinoides de células gástricas tipo enterocromafín. Estos cambios son el resultado de una \n",
      "hipergastrinemia prolongada secundaria a la inhibición ácida. Se han hallado resultados similares tras el \n",
      "tratamiento con antagonistas de receptores H2, inhibidores de la bomba de protones y tras fundectomía \n",
      "parcial. En consecuencia, estos cambios ...\n",
      "---\n",
      "\n",
      "Fragmento 7 (fuente: Omeprazol.txt):\n",
      "4.7. Efectos sobre la capacidad para conducir y utilizar máquinas  \n",
      "No es probable que Omeprazol Zentiva afecte a la capacidad para conducir o utilizar máquinas. Pueden \n",
      "aparecer reacciones adversas medicamentosas tales como mareo y alteraciones visuales (ver sección 4.8). \n",
      "Si ocurren, los pacientes no deben conducir o utilizar máquinas. \n",
      "4.8. Reacciones adversas  \n",
      "Resumen del perfil de seguridad \n",
      "Las reacciones adversas más frecuentes (1-10% de los pacientes) son cefalea, dolor abdominal, \n",
      "estr ...\n",
      "---\n",
      "\n",
      "Fragmento 8 (fuente: Omeprazol.txt):\n",
      "que pueden perder eficacia clínica. Se recomienda evitar la administración concomitante con posaconazol y \n",
      "erlotinib.  \n",
      " \n",
      "Principios activos metabolizados por el CYP2C19  \n",
      "El omeprazol es un inhibidor moderado del CYP2C19, su principal enzima metabolizadora. Por lo tanto, \n",
      "puede disminuir el metabolismo de principios activos concomitantes también metabolizados por el \n",
      "CYP2C19 y aumentar la exposición sistémica a esas sustancias. Algunos ejemplos de este tipo de fármacos \n",
      "son la D-warfarina y otr ...\n",
      "---\n",
      "\n",
      "Fragmento 9 (fuente: Omeprazol.txt):\n",
      "El omeprazol es una base débil, que se concentra y se convierte en la forma activa en el medio \n",
      "extremadamente ácido de los canalículos intracelulares de la célula parietal, inhibiendo en ellos a la enzima \n",
      "H+ K+-ATPasa, la bomba de protones. Este efecto, en el paso final del proceso de formación del ácido \n",
      "gástrico, es dosis-dependiente y proporciona una inhibición altamente eficaz tanto de la secreción ácida \n",
      "basal como de la secreción ácida estimulada, independientemente del estímulo.  \n",
      " \n",
      "Efe ...\n",
      "---\n",
      "\n",
      "Fragmento 10 (fuente: Omeprazol.txt):\n",
      "4.5. Interacción con otros medicamentos y otras formas de interacción  \n",
      "Efectos del omeprazol sobre la farmacocinética de otros principios activos \n",
      " \n",
      "Principios activos con absorción dependiente del pH \n",
      "La disminución de la acidez intragástrica durante el tratamiento con omeprazol puede aumentar o disminuir \n",
      "la absorción de principios activos con una absorción dependiente del pH gástrico.  \n",
      " \n",
      "Nelfinavir, Atazanavir \n",
      "Las concentraciones plasmáticas de nelfinavir y atazanavir disminuyen cuando se  ...\n",
      "---\n",
      "\n"
     ]
    },
    {
     "data": {
      "text/markdown": [
       "Respuesta generada:\n",
       "\n",
       "El omeprazol está contraindicado en pacientes que presenten hipersensibilidad al principio activo o a alguno de los excipientes, así como en pacientes con insuficiencia hepática grave. También se desaconseja su uso concomitante con clopidogrel debido a una posible interacción."
      ],
      "text/plain": [
       "<IPython.core.display.Markdown object>"
      ]
     },
     "metadata": {},
     "output_type": "display_data"
    }
   ],
   "source": [
    "# Realizar la consulta\n",
    "pregunta = \"¿Qué contraindicaciones tiene el Omeprazol?\"\n",
    "\n",
    "# Recuperar fragmentos relevantes desde el índice FAISS\n",
    "resultados = vectorstore.similarity_search(pregunta, k=10)\n",
    "\n",
    "# Filtrar fragmentos del medicamento específico\n",
    "medicamento = \"Omeprazol\"\n",
    "resultados_filtrados = [\n",
    "    r for r in resultados if medicamento.lower() in r.metadata.get(\"fuente\", \"\").lower()\n",
    "]\n",
    "# Vista previa de fragmentos\n",
    "for i, doc in enumerate(resultados_filtrados, 1):\n",
    "    print(f\"Fragmento {i} (fuente: {doc.metadata.get('fuente')}):\")\n",
    "    print(doc.page_content[:500], \"...\\n---\\n\")\n",
    "\n",
    "# Generar respuesta con LLM\n",
    "if resultados_filtrados:\n",
    "    llm = ChatOpenAI(model_name=\"gpt-3.5-turbo\", temperature=0.3)\n",
    "    contexto = \"\\n\".join(r.page_content for r in resultados_filtrados)\n",
    "\n",
    "    prompt = f\"\"\"\n",
    "Contesta a la siguiente pregunta utilizando únicamente la información del contexto proporcionado.\n",
    "\n",
    "### Contexto:\n",
    "{contexto}\n",
    "\n",
    "### Pregunta:\n",
    "{pregunta}\n",
    "\n",
    "### Respuesta:\n",
    "\"\"\"\n",
    "    respuesta = llm.invoke(prompt)         \n",
    "    display(Markdown(f\"Respuesta generada:\\n\\n{respuesta.content}\"))\n",
    "else:\n",
    "    print(f\"No se encontraron fragmentos relevantes para el medicamento {medicamento}.\")\n"
   ]
  },
  {
   "cell_type": "markdown",
   "id": "f5b117f5",
   "metadata": {},
   "source": [
    "### 4. Conclusiones\n",
    "\n",
    "En esta práctica se ha probado cómo usar modelos de lenguaje (LLMs) para trabajar con información clínica de medicamentos. A partir de fichas técnicas descargadas en formato texto, se ha construido un sistema que permite hacer preguntas médicas y obtener respuestas generadas por un modelo de lenguaje, utilizando únicamente el contenido de los documentos.\n",
    "\n",
    "Se ha creado un sistema que combina la recuperación semántica de información con la generación de respuestas en lenguaje natural. Para ello, se han utilizado herramientas de LangChain, como la generación de embeddings con OpenAI, la construcción de un índice con FAISS y la integración con el modelo `ChatOpenAI` para responder a preguntas médicas concretas.\n",
    "\n",
    "La técnica de **Retrieval-Augmented Generation (RAG)**, ha demostrado ser útil para localizar fragmentos relevantes en documentos largos y generar respuestas contextualizadas basadas únicamente en el contenido recuperado.\n",
    "\n",
    "Durante el desarrollo se han tenido en cuenta aspectos importantes como los límites de tokens, la preparación del corpus en fragmentos adecuados (*chunking*) y la importancia de diseñar prompts claros para obtener respuestas precisas."
   ]
  }
 ],
 "metadata": {
  "kernelspec": {
   "display_name": "Python (LLM)",
   "language": "python",
   "name": "llm-pharma"
  },
  "language_info": {
   "codemirror_mode": {
    "name": "ipython",
    "version": 3
   },
   "file_extension": ".py",
   "mimetype": "text/x-python",
   "name": "python",
   "nbconvert_exporter": "python",
   "pygments_lexer": "ipython3",
   "version": "3.10.13"
  }
 },
 "nbformat": 4,
 "nbformat_minor": 5
}
